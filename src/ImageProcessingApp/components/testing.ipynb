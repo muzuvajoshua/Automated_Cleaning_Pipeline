{
 "cells": [
  {
   "cell_type": "code",
   "execution_count": null,
   "metadata": {
    "vscode": {
     "languageId": "plaintext"
    }
   },
   "outputs": [],
   "source": [
    "import os\n",
    "from IPython.display import Image, display"
   ]
  },
  {
   "cell_type": "code",
   "execution_count": null,
   "metadata": {
    "vscode": {
     "languageId": "plaintext"
    }
   },
   "outputs": [],
   "source": [
    "storage_path = '/mnt/st1/Scrapped_images'"
   ]
  },
  {
   "cell_type": "code",
   "execution_count": null,
   "metadata": {
    "vscode": {
     "languageId": "plaintext"
    }
   },
   "outputs": [],
   "source": [
    "allowed_exts = {'.jpg', '.jpeg', '.png', '.gif'}\n",
    "images = [\n",
    "    f for f in os.listdir(storage_path)\n",
    "    if os.path.isfile(os.path.join(storage_path, f)) and os.path.splitext(f)[1].lower() in allowed_exts\n",
    "]\n",
    "\n",
    "print(f\"Found {len(images)} image(s) in {storage_path}.\")"
   ]
  },
  {
   "cell_type": "code",
   "execution_count": null,
   "metadata": {
    "vscode": {
     "languageId": "plaintext"
    }
   },
   "outputs": [],
   "source": [
    "for img_file in images[:5]:\n",
    "    img_path = os.path.join(storage_path, img_file)\n",
    "    print(f\"Displaying: {img_file}\")\n",
    "    display(Image(filename=img_path))"
   ]
  }
 ],
 "metadata": {
  "language_info": {
   "name": "python"
  }
 },
 "nbformat": 4,
 "nbformat_minor": 2
}
